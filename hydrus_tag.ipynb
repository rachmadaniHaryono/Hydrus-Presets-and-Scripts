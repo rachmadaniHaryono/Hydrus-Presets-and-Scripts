{
 "cells": [
  {
   "cell_type": "code",
   "execution_count": 2,
   "metadata": {},
   "outputs": [],
   "source": [
    "import csv\n",
    "filename = './temp_ac_cache5.md'\n",
    "data = []\n",
    "with open(filename) as f:\n",
    "    reader = csv.reader(f, delimiter='\\t')\n",
    "    data.append([x for x in reader])\n",
    "data = data[0]\n"
   ]
  },
  {
   "cell_type": "code",
   "execution_count": 3,
   "metadata": {},
   "outputs": [],
   "source": [
    "%matplotlib inline\n",
    "import matplotlib\n",
    "import matplotlib.pyplot as plt"
   ]
  },
  {
   "cell_type": "code",
   "execution_count": 15,
   "metadata": {},
   "outputs": [
    {
     "data": {
      "image/png": "[encoded data removed]",
      "text/plain": [
       "<matplotlib.figure.Figure at 0x7f76bceff550>"
      ]
     },
     "metadata": {},
     "output_type": "display_data"
    }
   ],
   "source": [
    "labels = 'with namespace', 'without namespace'\n",
    "sizes = [\n",
    "    sum([int(x[0]) for x in filter(lambda x: x[1], data)]),\n",
    "    sum([int(x[0]) for x in filter(lambda x: not x[1], data)]),\n",
    "]\n",
    "fig1, ax1 = plt.subplots()\n",
    "ax1.pie(sizes, labels=labels, autopct='%1.1f%%')\n",
    "ax1.set_title('Tags namespace comparison')\n",
    "plt.show()"
   ]
  },
  {
   "cell_type": "code",
   "execution_count": 14,
   "metadata": {},
   "outputs": [
    {
     "data": {
      "application/vnd.jupyter.widget-view+json": {
       "model_id": "24b366fb8f494f35a06c4923b8f598ba",
       "version_major": 2,
       "version_minor": 0
      },
      "text/html": [
       "<p>Failed to display Jupyter Widget of type <code>interactive</code>.</p>\n",
       "<p>\n",
       "  If you're reading this message in the Jupyter Notebook or JupyterLab Notebook, it may mean\n",
       "  that the widgets JavaScript is still loading. If this message persists, it\n",
       "  likely means that the widgets JavaScript library is either not installed or\n",
       "  not enabled. See the <a href=\"https://ipywidgets.readthedocs.io/en/stable/user_install.html\">Jupyter\n",
       "  Widgets Documentation</a> for setup instructions.\n",
       "</p>\n",
       "<p>\n",
       "  If you're reading this message in another frontend (for example, a static\n",
       "  rendering on GitHub or <a href=\"https://nbviewer.jupyter.org/\">NBViewer</a>),\n",
       "  it may mean that your frontend doesn't currently support widgets.\n",
       "</p>\n"
      ],
      "text/plain": [
       "interactive(children=(IntSlider(value=7, description='f', max=12, min=2), Output()), _dom_classes=('widget-interact',))"
      ]
     },
     "metadata": {},
     "output_type": "display_data"
    },
    {
     "data": {
      "text/plain": [
       "<function __main__.plt_pie>"
      ]
     },
     "execution_count": 14,
     "metadata": {},
     "output_type": "execute_result"
    }
   ],
   "source": [
    "from ipywidgets import interact\n",
    "max_item = 7\n",
    "nm_tags = list(filter(lambda x: x[1], data))\n",
    "labels = set([x[1] for x in nm_tags])\n",
    "#\n",
    "sizes = {}\n",
    "for tag_data in nm_tags:\n",
    "    for label in labels:\n",
    "        if tag_data[1] == label:\n",
    "            sizes.setdefault(label, 0)\n",
    "            sizes[label] += int(tag_data[0])\n",
    "#\n",
    "xt_counts = {}\n",
    "for tag_data in nm_tags:\n",
    "    for label in labels:\n",
    "        if tag_data[1] == label:\n",
    "            xt_counts.setdefault(label, 0)\n",
    "            xt_counts[label] += 1\n",
    "#\n",
    "nm_data = sizes\n",
    "sizes = []\n",
    "labels = []\n",
    "sorted_nm_data = sorted(nm_data.items(), key=lambda kv:kv[1], reverse=True)\n",
    "for key, value in sorted_nm_data:\n",
    "    sizes.append(value)\n",
    "    labels.append(key)\n",
    "#\n",
    "sizes_ax2 = []\n",
    "labels_ax2 = []\n",
    "sorted_xt_counts = sorted(xt_counts.items(), key=lambda kv:kv[1], reverse=True)\n",
    "for key, value in sorted_xt_counts:\n",
    "    sizes_ax2.append(value)\n",
    "    labels_ax2.append(key)\n",
    "\n",
    "    \n",
    "# print(sorted_nm_data)\n",
    "def plt_pie(f):\n",
    "    fig1, ax1 = plt.subplots()\n",
    "    ax1.pie(sizes[:f-1]+[sum(sizes[f-1:])], labels=labels[:f-1]+['others'], autopct='%1.1f%%')\n",
    "    ax1.set_title('Tags with namespace by image count')\n",
    "    _, ax2 = plt.subplots()\n",
    "    ax2.pie(sizes_ax2[:f-1]+[sum(sizes_ax2[f-1:])], labels=labels_ax2[:f-1]+['others'], autopct='%1.1f%%')\n",
    "    ax2.set_title('Tags with namespace by entry count')\n",
    "    plt.show()\n",
    "    \n",
    "    \n",
    "interact(plt_pie, f=(2,12))"
   ]
  },
  {
   "cell_type": "code",
   "execution_count": null,
   "metadata": {},
   "outputs": [],
   "source": []
  }
 ],
 "metadata": {
  "kernelspec": {
   "display_name": "Python 3",
   "language": "python",
   "name": "python3"
  },
  "language_info": {
   "codemirror_mode": {
    "name": "ipython",
    "version": 3
   },
   "file_extension": ".py",
   "mimetype": "text/x-python",
   "name": "python",
   "nbconvert_exporter": "python",
   "pygments_lexer": "ipython3",
   "version": "3.6.5"
  }
 },
 "nbformat": 4,
 "nbformat_minor": 2
}
